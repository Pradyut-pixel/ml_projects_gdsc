{
 "cells": [
  {
   "cell_type": "code",
   "execution_count": 2,
   "id": "4f851f83",
   "metadata": {},
   "outputs": [],
   "source": [
    "import tensorflow as tf\n",
    "import numpy as np\n",
    "import matplotlib.pyplot as plt"
   ]
  },
  {
   "cell_type": "code",
   "execution_count": 3,
   "id": "1dae5326",
   "metadata": {
    "scrolled": true
   },
   "outputs": [
    {
     "name": "stdout",
     "output_type": "stream",
     "text": [
      "Epoch 1/3\n",
      "1875/1875 [==============================] - 5s 2ms/step - loss: 0.3164 - accuracy: 0.9106\n",
      "Epoch 2/3\n",
      "1875/1875 [==============================] - 5s 2ms/step - loss: 0.1467 - accuracy: 0.9570\n",
      "Epoch 3/3\n",
      "1875/1875 [==============================] - 5s 2ms/step - loss: 0.1002 - accuracy: 0.9704\n",
      "313/313 [==============================] - 1s 2ms/step - loss: 0.1062 - accuracy: 0.9676\n",
      "0.10615851730108261\n",
      "0.9675999879837036\n"
     ]
    }
   ],
   "source": [
    "mnist = tf.keras.datasets.mnist\n",
    "(x_train, y_train),(x_test, y_test) = mnist.load_data()\n",
    "\n",
    "\n",
    "x_train = tf.keras.utils.normalize(x_train, axis=1) \n",
    "x_test = tf.keras.utils.normalize(x_test, axis=1)  \n",
    "\n",
    "model = tf.keras.models.Sequential()  #each layer has exactly one input tensor and one output tensor.\n",
    "model.add(tf.keras.layers.Flatten())\n",
    "model.add(tf.keras.layers.Dense(128, activation=tf.nn.relu))\n",
    "model.add(tf.keras.layers.Dense(10, activation=tf.nn.softmax)) #10 classifications\n",
    "\n",
    "model.compile(optimizer='adam', \n",
    "              loss='sparse_categorical_crossentropy',  \n",
    "              metrics=['accuracy'])  \n",
    "\n",
    "model.fit(x_train, y_train, epochs=3) \n",
    "\n",
    "val_loss, val_acc = model.evaluate(x_test, y_test)  # evaluate the out of sample data with model\n",
    "print(val_loss)  \n",
    "print(val_acc)  \n"
   ]
  },
  {
   "cell_type": "code",
   "execution_count": 4,
   "id": "60a55279",
   "metadata": {},
   "outputs": [
    {
     "name": "stdout",
     "output_type": "stream",
     "text": [
      "313/313 [==============================] - 1s 2ms/step\n",
      "[[5.0591439e-07 1.7331400e-09 5.3709467e-05 ... 9.9861550e-01\n",
      "  6.7627008e-07 1.0781986e-06]\n",
      " [1.0212431e-06 1.1408168e-03 9.9860841e-01 ... 1.5768437e-11\n",
      "  4.7879012e-06 3.9454567e-10]\n",
      " [2.7050537e-06 9.9804688e-01 1.8551006e-04 ... 3.9933788e-04\n",
      "  7.7926507e-04 2.5722025e-05]\n",
      " ...\n",
      " [9.0659800e-09 1.2599766e-06 1.4392300e-07 ... 1.2973457e-04\n",
      "  1.0056351e-03 2.1621068e-03]\n",
      " [4.3765021e-06 4.5745983e-07 1.1149994e-07 ... 9.3196485e-07\n",
      "  5.4440210e-03 4.0282004e-07]\n",
      " [8.5108508e-07 1.7934608e-09 2.4106203e-06 ... 1.5157565e-10\n",
      "  1.8119497e-08 5.5835696e-09]]\n"
     ]
    }
   ],
   "source": [
    "predictions = model.predict(x_test)\n",
    "print(predictions)"
   ]
  },
  {
   "cell_type": "code",
   "execution_count": 7,
   "id": "7647269a",
   "metadata": {
    "scrolled": true
   },
   "outputs": [
    {
     "name": "stdout",
     "output_type": "stream",
     "text": [
      "[9.99194086e-01 1.74659078e-07 3.92585906e-04 1.05192812e-05\n",
      " 6.29871222e-09 3.66278371e-04 1.32436535e-05 8.51667266e-07\n",
      " 3.86177226e-06 1.84499804e-05]\n",
      "0\n"
     ]
    },
    {
     "data": {
      "image/png": "[encoded data removed]",
      "text/plain": [
       "<Figure size 432x288 with 1 Axes>"
      ]
     },
     "metadata": {
      "needs_background": "light"
     },
     "output_type": "display_data"
    }
   ],
   "source": [
    "print(predictions[10])\n",
    "print(np.argmax(predictions[10]))\n",
    "\n",
    "\n",
    "plt.imshow(x_test[10],cmap=plt.cm.binary)\n",
    "plt.show()"
   ]
  }
 ],
 "metadata": {
  "kernelspec": {
   "display_name": "Python 3 (ipykernel)",
   "language": "python",
   "name": "python3"
  },
  "language_info": {
   "codemirror_mode": {
    "name": "ipython",
    "version": 3
   },
   "file_extension": ".py",
   "mimetype": "text/x-python",
   "name": "python",
   "nbconvert_exporter": "python",
   "pygments_lexer": "ipython3",
   "version": "3.10.2"
  }
 },
 "nbformat": 4,
 "nbformat_minor": 5
}
